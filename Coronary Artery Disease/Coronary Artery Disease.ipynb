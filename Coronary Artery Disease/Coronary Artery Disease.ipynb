{
 "cells": [
  {
   "cell_type": "markdown",
   "id": "0a4b1560-6025-4f6f-8cc6-a9a90b565f71",
   "metadata": {},
   "source": [
    "## Import Libraries"
   ]
  },
  {
   "cell_type": "code",
   "execution_count": 2,
   "id": "fb800705-a1da-4180-a942-7208c645c1bd",
   "metadata": {},
   "outputs": [],
   "source": [
    "import pandas as pd\n",
    "import numpy as np\n",
    "import matplotlib.pyplot as plt\n",
    "import seaborn as sns\n",
    "import shap\n",
    "from sklearn.model_selection import train_test_split, StratifiedKFold, cross_val_score\n",
    "from sklearn.preprocessing import LabelEncoder, StandardScaler\n",
    "from sklearn.ensemble import RandomForestClassifier, GradientBoostingClassifier\n",
    "from sklearn.linear_model import LogisticRegression\n",
    "from sklearn.metrics import (\n",
    "    classification_report, accuracy_score, confusion_matrix,\n",
    "    roc_auc_score, roc_curve\n",
    ")\n",
    "from sklearn.pipeline import Pipeline\n",
    "from imblearn.over_sampling import SMOTE\n",
    "from imblearn.pipeline import Pipeline as ImbPipeline  # For SMOTE with CV\n",
    "from sklearn.ensemble import RandomForestClassifier\n",
    "from sklearn.model_selection import GridSearchCV, StratifiedKFold\n",
    "import joblib"
   ]
  },
  {
   "cell_type": "markdown",
   "id": "ee311133-981f-49d1-88ab-c213314e0e65",
   "metadata": {},
   "source": [
    "## Load Data"
   ]
  },
  {
   "cell_type": "code",
   "execution_count": 3,
   "id": "4c42254f-a9dc-44dd-b4b1-5066092160ab",
   "metadata": {},
   "outputs": [],
   "source": [
    "# Load data\n",
    "df = pd.read_csv(\"Coronary Artery Disease.csv\")"
   ]
  },
  {
   "cell_type": "markdown",
   "id": "1c07b453-248e-46b0-80be-6537aed196f4",
   "metadata": {},
   "source": [
    "## Data Inspection"
   ]
  },
  {
   "cell_type": "code",
   "execution_count": 4,
   "id": "b7eda0de-f16c-48db-996d-69dcbb5950d4",
   "metadata": {},
   "outputs": [
    {
     "name": "stdout",
     "output_type": "stream",
     "text": [
      "Missing values:\n",
      " Age                      0\n",
      "Weight                   0\n",
      "Length                   0\n",
      "Sex                      0\n",
      "BMI                      0\n",
      "DM                       0\n",
      "HTN                      0\n",
      "Current Smoker           0\n",
      "EX-Smoker                0\n",
      "FH                       0\n",
      "Obesity                  0\n",
      "CRF                      0\n",
      "CVA                      0\n",
      "Airway disease           0\n",
      "Thyroid Disease          0\n",
      "CHF                      0\n",
      "DLP                      0\n",
      "BP                       0\n",
      "PR                       0\n",
      "Edema                    0\n",
      "Weak Peripheral Pulse    0\n",
      "Lung rales               0\n",
      "Systolic Murmur          0\n",
      "Diastolic Murmur         0\n",
      "Typical Chest Pain       0\n",
      "Dyspnea                  0\n",
      "Function Class           0\n",
      "Atypical                 0\n",
      "Nonanginal               0\n",
      "Exertional CP            0\n",
      "LowTH Ang                0\n",
      "Q Wave                   0\n",
      "St Elevation             0\n",
      "St Depression            0\n",
      "Tinversion               0\n",
      "LVH                      0\n",
      "Poor R Progression       0\n",
      "BBB                      0\n",
      "FBS                      0\n",
      "CR                       0\n",
      "TG                       0\n",
      "LDL                      0\n",
      "HDL                      0\n",
      "BUN                      0\n",
      "ESR                      0\n",
      "HB                       0\n",
      "K                        0\n",
      "Na                       0\n",
      "WBC                      0\n",
      "Lymph                    0\n",
      "Neut                     0\n",
      "PLT                      0\n",
      "EF-TTE                   0\n",
      "Region RWMA              0\n",
      "VHD                      0\n",
      "Cath                     0\n",
      "dtype: int64\n",
      "There are 0 duplicates in the dataset\n"
     ]
    }
   ],
   "source": [
    "# Check for missing values\n",
    "print(\"Missing values:\\n\", df.isnull().sum())\n",
    "# Checking for duplicates \n",
    "print(f'There are {df.duplicated().sum()} duplicates in the dataset')"
   ]
  },
  {
   "cell_type": "code",
   "execution_count": 5,
   "id": "a17e8262-320f-4ed2-a5d5-d48daa7c88e2",
   "metadata": {},
   "outputs": [
    {
     "name": "stdout",
     "output_type": "stream",
     "text": [
      "\n",
      "Data shape: (303, 56)\n",
      "\n",
      "Sample data:\n",
      "    Age  Weight  Length    Sex        BMI  DM  HTN  Current Smoker  EX-Smoker  \\\n",
      "0   53      90     175   Male  29.387755   0    1               1          0   \n",
      "1   67      70     157  Fmale  28.398718   0    1               0          0   \n",
      "2   54      54     164   Male  20.077335   0    0               1          0   \n",
      "3   66      67     158  Fmale  26.838648   0    1               0          0   \n",
      "4   50      87     153  Fmale  37.165193   0    1               0          0   \n",
      "\n",
      "   FH  ...    K   Na    WBC Lymph Neut  PLT EF-TTE  Region RWMA     VHD  \\\n",
      "0   0  ...  4.7  141   5700    39   52  261     50            0       N   \n",
      "1   0  ...  4.7  156   7700    38   55  165     40            4       N   \n",
      "2   0  ...  4.7  139   7400    38   60  230     40            2    mild   \n",
      "3   0  ...  4.4  142  13000    18   72  742     55            0  Severe   \n",
      "4   0  ...  4.0  140   9200    55   39  274     50            0  Severe   \n",
      "\n",
      "     Cath  \n",
      "0     Cad  \n",
      "1     Cad  \n",
      "2     Cad  \n",
      "3  Normal  \n",
      "4  Normal  \n",
      "\n",
      "[5 rows x 56 columns]\n"
     ]
    }
   ],
   "source": [
    "print(\"\\nData shape:\", df.shape)\n",
    "print(\"\\nSample data:\\n\", df.head())"
   ]
  },
  {
   "cell_type": "markdown",
   "id": "a982210c-ce7f-45ec-99e7-4f1818a00d6e",
   "metadata": {},
   "source": [
    "Distribution of CAD Patients"
   ]
  },
  {
   "cell_type": "code",
   "execution_count": 6,
   "id": "8acffd59-42be-4272-95da-2c50d59c4f95",
   "metadata": {},
   "outputs": [
    {
     "data": {
      "image/png": "[encoded data removed]",
      "text/plain": [
       "<Figure size 600x400 with 1 Axes>"
      ]
     },
     "metadata": {},
     "output_type": "display_data"
    },
    {
     "name": "stdout",
     "output_type": "stream",
     "text": [
      "CAD Class Distribution (%):\n",
      " Cath\n",
      "Cad       71.287129\n",
      "Normal    28.712871\n",
      "Name: proportion, dtype: float64\n"
     ]
    }
   ],
   "source": [
    "# Plot with updated syntax\n",
    "plt.figure(figsize=(6, 4))\n",
    "ax = sns.countplot(data=df, x='Cath', hue='Cath', palette='Set2', legend=False)\n",
    "plt.title(\"Distribution of Patients with and without CAD\")\n",
    "plt.xlabel(\"CAD (Cath): 0 = No CAD, 1 = CAD\")\n",
    "plt.ylabel(\"Number of Patients\")\n",
    "\n",
    "# Add counts on bars\n",
    "for p in ax.patches:\n",
    "    height = p.get_height()\n",
    "    ax.annotate(f'{height}', (p.get_x() + p.get_width() / 2., height),\n",
    "                ha='center', va='bottom')\n",
    "\n",
    "plt.tight_layout()\n",
    "plt.show()\n",
    "\n",
    "# Show class percentages\n",
    "cad_counts = df['Cath'].value_counts(normalize=True) * 100\n",
    "print(\"CAD Class Distribution (%):\\n\", cad_counts)\n"
   ]
  },
  {
   "cell_type": "markdown",
   "id": "5ab72f77-a9b2-4b78-8870-1f20bbfebf6e",
   "metadata": {},
   "source": [
    "Visualization of Demographic Factors and Their Relationship with Coronary Artery Disease (CAD) Diagnosis"
   ]
  },
  {
   "cell_type": "code",
   "execution_count": null,
   "id": "b01b4cb9-0352-4bad-bb8c-080f897d04ba",
   "metadata": {},
   "outputs": [],
   "source": [
    "#Boxplots for continuous variables (Age, Weight, BMI) display distribution differences by CAD presence\n",
    "#The red dashed line on the BMI plot marks the obesity cutoff (BMI 30).\n",
    "#Countplots for categorical variables (Sex and Diabetes) show group sizes and CAD presence proportionally.\n",
    "\n",
    "plt.figure(figsize=(18, 12))\n",
    "\n",
    "# 1. Age distribution by CAD diagnosis\n",
    "plt.subplot(2, 3, 1)\n",
    "sns.boxplot(data=df, x='Cath', y='Age')\n",
    "plt.title('Age by CAD Diagnosis')\n",
    "plt.xlabel('CAD Diagnosis (Cath)')\n",
    "plt.ylabel('Age (years)')\n",
    "\n",
    "# 2. Weight distribution by CAD diagnosis\n",
    "plt.subplot(2, 3, 2)\n",
    "sns.boxplot(data=df, x='Cath', y='Weight')\n",
    "plt.title('Weight by CAD Diagnosis')\n",
    "plt.xlabel('CAD Diagnosis (Cath)')\n",
    "plt.ylabel('Weight (kg)')\n",
    "\n",
    "# 3. BMI distribution by CAD diagnosis\n",
    "plt.subplot(2, 3, 3)\n",
    "sns.boxplot(data=df, x='Cath', y='BMI')\n",
    "plt.axhline(30, color='r', linestyle='--', label='Obesity BMI Threshold (30)')\n",
    "plt.title('BMI by CAD Diagnosis')\n",
    "plt.xlabel('CAD Diagnosis (Cath)')\n",
    "plt.ylabel('BMI (kg/m²)')\n",
    "plt.legend()\n",
    "\n",
    "# 4. Sex distribution by CAD diagnosis (count plot)\n",
    "plt.subplot(2, 3, 4)\n",
    "sns.countplot(data=df, x='Sex', hue='Cath')\n",
    "plt.title('Sex Distribution by CAD Diagnosis')\n",
    "plt.xlabel('Sex (0=Female, 1=Male)')\n",
    "plt.ylabel('Count')\n",
    "plt.legend(title='CAD Diagnosis (Cath)', labels=['No CAD', 'CAD'])\n",
    "\n",
    "# 5. Diabetes prevalence by CAD diagnosis (count plot)\n",
    "plt.subplot(2, 3, 5)\n",
    "sns.countplot(data=df, x='DM', hue='Cath')\n",
    "plt.title('Diabetes Status by CAD Diagnosis')\n",
    "plt.xlabel('Diabetes (0=No, 1=Yes)')\n",
    "plt.ylabel('Count')\n",
    "plt.legend(title='CAD Diagnosis (Cath)', labels=['No CAD', 'CAD'])\n",
    "\n",
    "plt.tight_layout()\n",
    "plt.show()"
   ]
  },
  {
   "cell_type": "markdown",
   "id": "a19c4831-ce3f-4ae4-9983-0aaf32a53a1c",
   "metadata": {},
   "source": [
    "Blood-Related and Lipid Profile Distributions by CAD Diagnosis"
   ]
  },
  {
   "cell_type": "code",
   "execution_count": null,
   "id": "e9b6e3ab-d957-48ae-9953-98a254514561",
   "metadata": {},
   "outputs": [],
   "source": [
    "# This section explores the relationship between various blood-related indicators and the presence of Coronary Artery Disease (CAD), based on the Cath diagnosis. Box plots are used to compare the distribution of each feature between individuals diagnosed with CAD and those not diagnosed.\n",
    "plt.figure(figsize=(15, 16))\n",
    "\n",
    "# 1. Blood Pressure distribution by CAD diagnosis\n",
    "plt.subplot(4, 2, 1)\n",
    "sns.boxplot(data=df, x='Cath', y='BP')\n",
    "plt.title('Blood Pressure by CAD Diagnosis')\n",
    "plt.xlabel('CAD Diagnosis (Cath)')\n",
    "plt.ylabel('Blood Pressure (mmHg)')\n",
    "\n",
    "# 2. WBC count distribution by CAD diagnosis\n",
    "plt.subplot(4, 2, 2)\n",
    "sns.boxplot(data=df, x='Cath', y='WBC')\n",
    "plt.axhline(11000, color='r', linestyle='--', label='Upper Normal Limit (11,000)')\n",
    "plt.title('White Blood Cell Count by CAD Diagnosis')\n",
    "plt.xlabel('CAD Diagnosis (Cath)')\n",
    "plt.ylabel('WBC count (cells/microliter)')\n",
    "plt.legend()\n",
    "\n",
    "# 3. Pulse Rate distribution by CAD diagnosis\n",
    "plt.subplot(4, 2, 3)\n",
    "sns.boxplot(data=df, x='Cath', y='PR')\n",
    "plt.title('Pulse Rate by CAD Diagnosis')\n",
    "plt.xlabel('CAD Diagnosis (Cath)')\n",
    "plt.ylabel('Pulse Rate (beats per minute)')\n",
    "\n",
    "# 4. LDL cholesterol distribution by CAD diagnosis\n",
    "plt.subplot(4, 2, 4)\n",
    "sns.boxplot(data=df, x='Cath', y='LDL')\n",
    "plt.axhline(100, color='r', linestyle='--', label='LDL Goal (100 mg/dL)')\n",
    "plt.title('LDL Cholesterol by CAD Diagnosis')\n",
    "plt.xlabel('CAD Diagnosis (Cath)')\n",
    "plt.ylabel('LDL (mg/dL)')\n",
    "plt.legend()\n",
    "\n",
    "# 5. HDL cholesterol distribution by CAD diagnosis\n",
    "plt.subplot(4, 2, 5)\n",
    "sns.boxplot(data=df, x='Cath', y='HDL')\n",
    "plt.axhline(60, color='g', linestyle='--', label='HDL Protective Level (60 mg/dL)')\n",
    "plt.title('HDL Cholesterol by CAD Diagnosis')\n",
    "plt.xlabel('CAD Diagnosis (Cath)')\n",
    "plt.ylabel('HDL (mg/dL)')\n",
    "plt.legend()\n",
    "\n",
    "# 6. Triglycerides distribution by CAD diagnosis\n",
    "plt.subplot(4, 2, 6)\n",
    "sns.boxplot(data=df, x='Cath', y='TG')\n",
    "plt.title('Triglycerides by CAD Diagnosis')\n",
    "plt.xlabel('CAD Diagnosis (Cath)')\n",
    "plt.ylabel('Triglycerides (mg/dL)')\n",
    "\n",
    "# 7. ESR distribution by CAD diagnosis\n",
    "plt.subplot(4, 2, 7)\n",
    "sns.boxplot(data=df, x='Cath', y='ESR')\n",
    "plt.axhline(25, color='r', linestyle='--', label='Upper Normal ESR (25)')\n",
    "plt.title('Erythrocyte Sedimentation Rate (ESR) by CAD Diagnosis')\n",
    "plt.xlabel('CAD Diagnosis (Cath)')\n",
    "plt.ylabel('ESR (mm/hr)')\n",
    "plt.legend()\n",
    "\n",
    "plt.tight_layout()\n",
    "plt.show()"
   ]
  },
  {
   "cell_type": "markdown",
   "id": "94f00722-19bd-485b-8407-2470fb6365ee",
   "metadata": {},
   "source": [
    "## Data Preprocessing"
   ]
  },
  {
   "cell_type": "code",
   "execution_count": null,
   "id": "973e2170-5979-4a0a-9b1f-5632329b1cb8",
   "metadata": {},
   "outputs": [],
   "source": [
    "# Label encoding for categorical variables\n",
    "categorical_cols = ['Sex', 'Obesity', 'Current Smoker', 'EX-Smoker', 'FH', 'CRF', 'CVA', \n",
    "                    'Airway disease', 'Thyroid Disease', 'CHF', 'DLP', 'Weak Peripheral Pulse', \n",
    "                    'Lung rales', 'Systolic Murmur', 'Diastolic Murmur', 'Typical Chest Pain', \n",
    "                    'Dyspnea', 'Atypical', 'Nonanginal', 'Exertional CP', 'LowTH Ang', \n",
    "                    'Q Wave', 'St Elevation', 'St Depression', 'Tinversion', 'LVH', \n",
    "                    'Poor R Progression', 'BBB', 'Region RWMA', 'VHD', 'Cath']\n",
    "\n",
    "for col in categorical_cols:\n",
    "    if col in df.columns:\n",
    "        df[col] = LabelEncoder().fit_transform(df[col].astype(str))\n",
    "\n",
    "# Drop rows with missing target\n",
    "df = df[df['Cath'].notnull()]"
   ]
  },
  {
   "cell_type": "code",
   "execution_count": null,
   "id": "3c12f125-4331-44d6-997a-da615ec287ac",
   "metadata": {},
   "outputs": [],
   "source": [
    "# Remove duplicate rows\n",
    "df = df.drop_duplicates()"
   ]
  },
  {
   "cell_type": "code",
   "execution_count": null,
   "id": "729ca6a9-2ae8-412a-9c7f-1a342cd4b946",
   "metadata": {},
   "outputs": [],
   "source": [
    "# Number of plots per row\n",
    "n_cols = 4\n",
    "n_rows = -(-len(categorical_cols) // n_cols)  # Ceiling division\n",
    "\n",
    "# Set figure size\n",
    "plt.figure(figsize=(20, n_rows * 4))\n",
    "\n",
    "# Generate count plots for each categorical feature by 'Cath'\n",
    "for idx, col in enumerate(categorical_cols, 1):\n",
    "    plt.subplot(n_rows, n_cols, idx)\n",
    "    sns.countplot(data=df, x=col, hue='Cath', palette='Set2')\n",
    "    plt.title(col)\n",
    "    plt.xticks(rotation=45, ha='right')\n",
    "\n",
    "plt.tight_layout()\n",
    "plt.suptitle('Categorical Feature Distributions by CAD Diagnosis', fontsize=20, y=1.02)\n",
    "plt.show()"
   ]
  },
  {
   "cell_type": "code",
   "execution_count": null,
   "id": "68b39e5b-28c4-4826-9fea-cdcb43b5f70e",
   "metadata": {},
   "outputs": [],
   "source": [
    "# Calculate correlation matrix\n",
    "correlation_matrix = df.corr()\n",
    "\n",
    "# Correlation with target variable 'Cath'\n",
    "cad_corr = correlation_matrix['Cath'].drop('Cath').sort_values(key=abs, ascending=False)\n",
    "\n",
    "# Prepare DataFrame for plotting with hue\n",
    "cad_corr_df = cad_corr.reset_index()\n",
    "cad_corr_df.columns = ['Feature', 'Correlation']\n",
    "cad_corr_df['hue'] = cad_corr_df['Correlation']  # use correlation as hue\n",
    "\n",
    "# Plot\n",
    "plt.figure(figsize=(10, 12))\n",
    "sns.barplot(data=cad_corr_df, x='Correlation', y='Feature', hue='hue',\n",
    "            palette='coolwarm', dodge=False, legend=False)\n",
    "plt.title('Correlation of Features with Coronary Artery Disease (Cath)')\n",
    "plt.xlabel('Correlation Coefficient')\n",
    "plt.ylabel('Feature')\n",
    "plt.tight_layout()\n",
    "plt.show()\n"
   ]
  },
  {
   "cell_type": "markdown",
   "id": "d4dd2de2-a714-407c-8b24-33a4ef76f9a7",
   "metadata": {},
   "source": [
    "## Feature/Target Split"
   ]
  },
  {
   "cell_type": "code",
   "execution_count": null,
   "id": "e5178967-b616-42a8-987a-324b5848455a",
   "metadata": {},
   "outputs": [],
   "source": [
    "# Define features and target\n",
    "X = df.drop(['Cath'], axis=1)\n",
    "y = df['Cath']"
   ]
  },
  {
   "cell_type": "markdown",
   "id": "0cf884cd-3f8b-4eda-a80c-5073a0d8473a",
   "metadata": {},
   "source": [
    "## Feature Scaling"
   ]
  },
  {
   "cell_type": "code",
   "execution_count": null,
   "id": "af0a1186-6bea-425a-91df-6437764cb8bf",
   "metadata": {},
   "outputs": [],
   "source": [
    "# Feature scaling\n",
    "scaler = StandardScaler()\n",
    "X_scaled = scaler.fit_transform(X)"
   ]
  },
  {
   "cell_type": "markdown",
   "id": "a90dc73c-4ed5-4d76-9251-8b31368944d2",
   "metadata": {},
   "source": [
    "## Train-Test Split "
   ]
  },
  {
   "cell_type": "code",
   "execution_count": null,
   "id": "8716f430-f3a1-4e21-a541-40ff5695630f",
   "metadata": {},
   "outputs": [],
   "source": [
    "# Train-test split with stratification\n",
    "X_train, X_test, y_train, y_test = train_test_split(\n",
    "    X_scaled, y, test_size=0.2, random_state=42, stratify=y\n",
    ")"
   ]
  },
  {
   "cell_type": "markdown",
   "id": "3f1abbef-e421-4ead-aae1-5e36ac01f40d",
   "metadata": {},
   "source": [
    "## Handle Class Imbalance (SMOTE)"
   ]
  },
  {
   "cell_type": "code",
   "execution_count": null,
   "id": "cda07b02-07cf-4a5d-a670-643bd5c129cc",
   "metadata": {},
   "outputs": [],
   "source": [
    "# Handle class imbalance using SMOTE\n",
    "sm = SMOTE(random_state=42)\n",
    "X_train_res, y_train_res = sm.fit_resample(X_train, y_train)"
   ]
  },
  {
   "cell_type": "markdown",
   "id": "25fb9138-82d1-4a20-acfb-6e7092d014fa",
   "metadata": {},
   "source": [
    "## Model Training"
   ]
  },
  {
   "cell_type": "code",
   "execution_count": null,
   "id": "036a28ed-1298-4a98-a920-ebf9a70ae9ab",
   "metadata": {},
   "outputs": [],
   "source": [
    "# Define models to compare\n",
    "models = {\n",
    "    \"Random Forest\": RandomForestClassifier(n_estimators=100, class_weight='balanced', random_state=42),\n",
    "    \"Logistic Regression\": LogisticRegression(class_weight='balanced', max_iter=1000, random_state=42),\n",
    "    \"Gradient Boosting\": GradientBoostingClassifier(n_estimators=100, random_state=42)\n",
    "}\n",
    "\n",
    "results = {}"
   ]
  },
  {
   "cell_type": "markdown",
   "id": "9af530a4-c005-41c3-9643-5d70d5d013a5",
   "metadata": {},
   "source": [
    "## Model Evaluation"
   ]
  },
  {
   "cell_type": "code",
   "execution_count": null,
   "id": "4a81032b-5d12-4c14-bf95-285880c0996a",
   "metadata": {},
   "outputs": [],
   "source": [
    "for name, model in models.items():\n",
    "    # Train\n",
    "    model.fit(X_train_res, y_train_res)\n",
    "    \n",
    "    # Predict & predict probabilities (needed for ROC AUC)\n",
    "    y_pred = model.predict(X_test)\n",
    "    if hasattr(model, \"predict_proba\"):\n",
    "        y_proba = model.predict_proba(X_test)[:, 1]\n",
    "    else:  # Some classifiers (like SVM) may not have predict_proba\n",
    "        y_proba = model.decision_function(X_test)\n",
    "        y_proba = (y_proba - y_proba.min()) / (y_proba.max() - y_proba.min())  # normalize\n",
    "    \n",
    "    # Metrics\n",
    "    acc = accuracy_score(y_test, y_pred)\n",
    "    roc_auc = roc_auc_score(y_test, y_proba)\n",
    "    report = classification_report(y_test, y_pred, output_dict=True)\n",
    "    cm = confusion_matrix(y_test, y_pred)\n",
    "    \n",
    "    results[name] = {\n",
    "        \"accuracy\": acc,\n",
    "        \"roc_auc\": roc_auc,\n",
    "        \"classification_report\": report,\n",
    "        \"confusion_matrix\": cm,\n",
    "        \"model\": model\n",
    "    }\n",
    "    print(f\"=== {name} ===\")\n",
    "    print(f\"Accuracy: {acc:.4f}\")\n",
    "    print(f\"ROC AUC: {roc_auc:.4f}\")\n",
    "    print(classification_report(y_test, y_pred))\n",
    "    print(\"Confusion Matrix:\")\n",
    "    print(cm)\n",
    "    print(\"\\n\")"
   ]
  },
  {
   "cell_type": "markdown",
   "id": "b613c78b-fb54-4795-ac04-522c01b8de60",
   "metadata": {},
   "source": [
    "## Visualization - ROC Curve"
   ]
  },
  {
   "cell_type": "code",
   "execution_count": null,
   "id": "d0dc8cd4-58e0-47ad-8a12-bb7090cedc7d",
   "metadata": {},
   "outputs": [],
   "source": [
    "# Plot ROC Curves for all models\n",
    "plt.figure(figsize=(8, 6))\n",
    "for name, res in results.items():\n",
    "    y_proba = res[\"model\"].predict_proba(X_test)[:, 1] if hasattr(res[\"model\"], \"predict_proba\") else None\n",
    "    if y_proba is not None:\n",
    "        fpr, tpr, _ = roc_curve(y_test, y_proba)\n",
    "        plt.plot(fpr, tpr, label=f\"{name} (AUC = {res['roc_auc']:.2f})\")\n",
    "\n",
    "plt.plot([0, 1], [0, 1], \"k--\")\n",
    "plt.xlabel(\"False Positive Rate\")\n",
    "plt.ylabel(\"True Positive Rate\")\n",
    "plt.title(\"ROC Curve Comparison\")\n",
    "plt.legend()\n",
    "plt.grid(True)\n",
    "plt.show()"
   ]
  },
  {
   "cell_type": "markdown",
   "id": "a77c60f2-ab63-4179-9363-6a2748dc229e",
   "metadata": {},
   "source": [
    "## Model Performance Summary"
   ]
  },
  {
   "cell_type": "code",
   "execution_count": null,
   "id": "9d2a608e-308a-4578-9c01-bf8fc5254e93",
   "metadata": {},
   "outputs": [],
   "source": [
    "# Summary Table\n",
    "summary = pd.DataFrame({\n",
    "    'Model': list(results.keys()),\n",
    "    'Accuracy': [v['accuracy'] for v in results.values()],\n",
    "    'ROC AUC': [v['roc_auc'] for v in results.values()]\n",
    "}).sort_values(by='ROC AUC', ascending=False)\n",
    "\n",
    "print(\"Model Performance Summary:\\n\", summary)"
   ]
  },
  {
   "cell_type": "markdown",
   "id": "7b7acf5c-2052-4849-a913-c5a52ccc6b4a",
   "metadata": {},
   "source": [
    "Based on the evaluation metrics, the Random Forest model demonstrated the best overall performance. Although Gradient Boosting achieved the highest accuracy, Random Forest had the highest ROC AUC score, which is crucial for medical diagnosis as it reflects the model’s ability to distinguish between patients with and without coronary artery disease. Therefore, Random Forest is considered the most effective model in this analysis."
   ]
  },
  {
   "cell_type": "markdown",
   "id": "d39ac72b-796b-4dbe-aa60-79a0d0fbfe07",
   "metadata": {},
   "source": [
    "## Hyperparameters for Random Forest model"
   ]
  },
  {
   "cell_type": "code",
   "execution_count": null,
   "id": "1afa30d4-45ee-447c-bc14-30d7f443eb66",
   "metadata": {},
   "outputs": [],
   "source": [
    "from sklearn.ensemble import RandomForestClassifier\n",
    "from sklearn.model_selection import GridSearchCV, StratifiedKFold\n",
    "\n",
    "rf = RandomForestClassifier(random_state=42)\n",
    "\n",
    "param_grid = {\n",
    "    'n_estimators': [50, 100, 200],\n",
    "    'max_depth': [None, 10, 20, 30],\n",
    "    'min_samples_split': [2, 5, 10],\n",
    "}\n",
    "\n",
    "cv = StratifiedKFold(n_splits=5, shuffle=True, random_state=42)\n",
    "\n",
    "grid_search = GridSearchCV(rf, param_grid, cv=cv, scoring='roc_auc', n_jobs=-1, verbose=2)\n",
    "grid_search.fit(X_train, y_train)\n",
    "\n",
    "print(\"Best params:\", grid_search.best_params_)\n",
    "print(\"Best ROC AUC:\", grid_search.best_score_)\n"
   ]
  },
  {
   "cell_type": "code",
   "execution_count": null,
   "id": "d578aa8b-a2a2-460e-9442-f5fa4d0b45bc",
   "metadata": {},
   "outputs": [],
   "source": [
    "# Evaluate best model on test data\n",
    "best_model = grid_search.best_estimator_\n",
    "y_pred = best_model.predict(X_test)\n",
    "y_proba = best_model.predict_proba(X_test)[:, 1]\n",
    "\n",
    "print(\"Test Accuracy:\", accuracy_score(y_test, y_pred))\n",
    "print(\"Test ROC AUC:\", roc_auc_score(y_test, y_proba))\n",
    "print(\"Classification Report:\\n\", classification_report(y_test, y_pred))\n",
    "print(\"Confusion Matrix:\\n\", confusion_matrix(y_test, y_pred))\n",
    "\n",
    "# Plot ROC Curve\n",
    "from sklearn.metrics import roc_curve\n",
    "fpr, tpr, _ = roc_curve(y_test, y_proba)\n",
    "plt.plot(fpr, tpr, label=f'AUC = {roc_auc_score(y_test, y_proba):.2f}')\n",
    "plt.plot([0, 1], [0, 1], 'k--')\n",
    "plt.xlabel('False Positive Rate')\n",
    "plt.ylabel('True Positive Rate')\n",
    "plt.title('ROC Curve - Gradient Boosting (Tuned)')\n",
    "plt.legend()\n",
    "plt.show()"
   ]
  },
  {
   "cell_type": "markdown",
   "id": "4d5139c1-598c-4652-a65a-6aa4d95daa43",
   "metadata": {},
   "source": [
    "## Save Model and Scaler"
   ]
  },
  {
   "cell_type": "code",
   "execution_count": null,
   "id": "2bbb546c-9455-46c5-9433-13bcf1a5e744",
   "metadata": {},
   "outputs": [],
   "source": [
    "# Save the best model (Random Forest)\n",
    "joblib.dump(best_model, \"CAD_Predictor_RF_BestModel.pkl\")\n",
    "\n",
    "# Save the scaler used on features\n",
    "joblib.dump(scaler, \"scaler_CAD.pkl\")"
   ]
  },
  {
   "cell_type": "markdown",
   "id": "d8bd78cb-7316-411f-99a8-0074e390005e",
   "metadata": {},
   "source": [
    "Creating SHAP Explainer and Plotting Feature Importance for Coronary Artery Disease Prediction Model"
   ]
  },
  {
   "cell_type": "code",
   "execution_count": null,
   "id": "a352abc1-09b6-45be-b02b-dd16f4278ae6",
   "metadata": {},
   "outputs": [],
   "source": [
    "full_feature_names = df.drop(columns=['Cath']).columns.tolist() \n",
    "\n",
    "# Now convert numpy array to DataFrame with full feature names\n",
    "X_train_df = pd.DataFrame(X_train, columns=full_feature_names)\n",
    "\n",
    "# Use DataFrame with SHAP explainer\n",
    "explainer = shap.Explainer(model, X_train_df)\n",
    "shap_values = explainer(X_train_df)\n",
    "\n",
    "#Displays the impact of all features on the model’s output across the dataset. Each point represents a patient, showing how the feature value (color) affects the prediction. Features are ranked by their overall importance.\n",
    "shap.summary_plot(shap_values, X_train_df)\n",
    "#Shows the average absolute SHAP value for each feature, indicating the overall influence of each feature on model predictions.\n",
    "shap.plots.bar(shap_values)\n"
   ]
  },
  {
   "cell_type": "code",
   "execution_count": null,
   "id": "c2581a06-3d21-4a77-bb12-ff2ec44a553d",
   "metadata": {},
   "outputs": [],
   "source": []
  },
  {
   "cell_type": "code",
   "execution_count": null,
   "id": "cc74ecd9-3e05-4952-83f4-5185d5e3b29e",
   "metadata": {},
   "outputs": [],
   "source": []
  }
 ],
 "metadata": {
  "kernelspec": {
   "display_name": "Python 3 (ipykernel)",
   "language": "python",
   "name": "python3"
  },
  "language_info": {
   "codemirror_mode": {
    "name": "ipython",
    "version": 3
   },
   "file_extension": ".py",
   "mimetype": "text/x-python",
   "name": "python",
   "nbconvert_exporter": "python",
   "pygments_lexer": "ipython3",
   "version": "3.12.4"
  }
 },
 "nbformat": 4,
 "nbformat_minor": 5
}
